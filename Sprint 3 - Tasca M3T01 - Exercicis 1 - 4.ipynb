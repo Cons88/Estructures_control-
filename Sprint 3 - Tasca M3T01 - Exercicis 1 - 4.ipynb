{
 "cells": [
  {
   "cell_type": "markdown",
   "id": "bbfbab09",
   "metadata": {},
   "source": [
    "- Exercici 1\n",
    "Crea una funció que donat un Array d’una dimensió, et faci un resum estadístic bàsic de les dades. Si detecta que l’array té més d’una dimensió, ha de mostrar un missatge d’error.\n"
   ]
  },
  {
   "cell_type": "code",
   "execution_count": 19,
   "id": "ceb09083",
   "metadata": {},
   "outputs": [],
   "source": [
    "import numpy as np"
   ]
  },
  {
   "cell_type": "code",
   "execution_count": 20,
   "id": "5d9bda2a",
   "metadata": {},
   "outputs": [
    {
     "name": "stdout",
     "output_type": "stream",
     "text": [
      "[46 35 23 27]\n",
      "Tamaño total del array:  4\n",
      "La forma del array es:  (4,)\n",
      "El tipo del elementos en el array es:  int32\n",
      "Las dimensiones del array son:  1\n",
      "El número mayor es:  46\n",
      "El número menor es:  23\n"
     ]
    }
   ],
   "source": [
    "def crear_array_dimension():    \n",
    "    m = np.random.randint (0,50, size = (4))\n",
    "    print(m)\n",
    "    print(\"Tamaño total del array: \",(m.size)) \n",
    "    print(\"La forma del array es: \", (m.shape)) # forma\n",
    "    print(\"El tipo del elementos en el array es: \", (m.dtype)) # tipo de sus elementos\n",
    "    print(\"Las dimensiones del array son: \", (m.ndim))\n",
    "    #if (m.ndim > 1) \n",
    "   # print(\"Error\")\n",
    "    print(\"El número mayor es: \", max(m))\n",
    "    print(\"El número menor es: \", min(m))\n",
    "    #print(\"El rango es: \", range(m))\n",
    "    \n",
    "crear_array_dimension()\n",
    "\n",
    "\n"
   ]
  },
  {
   "cell_type": "code",
   "execution_count": 24,
   "id": "99e78a97",
   "metadata": {},
   "outputs": [
    {
     "name": "stdout",
     "output_type": "stream",
     "text": [
      "[31 49 23  4]\n",
      "Tamaño total del array:  4\n",
      "La forma del array es:  (4,)\n",
      "El tipo del elementos en el array es:  int32\n",
      "Las dimensiones del array son:  1\n",
      "El número mayor es:  49\n",
      "El número menor es:  4\n"
     ]
    }
   ],
   "source": [
    "def crear_array_dimension():    \n",
    "    m = np.random.randint (0,50, size = (4))\n",
    "    print(m)\n",
    "    print(\"Tamaño total del array: \",(m.size)) \n",
    "    print(\"La forma del array es: \", (m.shape)) # forma\n",
    "    print(\"El tipo del elementos en el array es: \", (m.dtype)) # tipo de sus elementos\n",
    "    print(\"Las dimensiones del array son: \", (m.ndim))\n",
    "    dimension = m.ndim\n",
    "    if dimension > 1: \n",
    "        print(\"Error\")\n",
    "    print(\"El número mayor es: \", max(m))\n",
    "    print(\"El número menor es: \", min(m))\n",
    "    #print(\"El rango es: \", range(m))\n",
    "    \n",
    "crear_array_dimension()"
   ]
  },
  {
   "cell_type": "code",
   "execution_count": 40,
   "id": "2a776c49",
   "metadata": {},
   "outputs": [
    {
     "name": "stdout",
     "output_type": "stream",
     "text": [
      "[[45  9 22  2]\n",
      " [49  7 11  5]\n",
      " [15 48 49 40]\n",
      " [35 14 39  2]]\n",
      "Tamaño total del array:  16\n",
      "La forma del array es:  (4, 4)\n",
      "El tipo del elementos en el array es:  int32\n",
      "El número mayor es:  <built-in method max of numpy.ndarray object at 0x000001DF6555C090>\n",
      "El número menor es:  <built-in method min of numpy.ndarray object at 0x000001DF6555C090>\n",
      "Dimension: Error\n"
     ]
    }
   ],
   "source": [
    "def crear_array_dimension():    \n",
    "    m = np.random.randint (0,50, size = (4,4))\n",
    "    print(m)\n",
    "    print(\"Tamaño total del array: \",(m.size)) \n",
    "    print(\"La forma del array es: \", (m.shape)) # forma\n",
    "    print(\"El tipo del elementos en el array es: \", (m.dtype)) # tipo de sus elementos\n",
    "    print(\"El número mayor es: \", (m.max))\n",
    "    print(\"El número menor es: \", (m.min))\n",
    "    #print(\"El rango es: \", range(m))\n",
    "  \n",
    "    dimension = m.ndim\n",
    "    if dimension > 1: \n",
    "        print(\"Dimension: Error\")\n",
    "       # elif:  \n",
    "            #print(m.ndim)\n",
    " \n",
    "    \n",
    "crear_array_dimension()"
   ]
  },
  {
   "cell_type": "code",
   "execution_count": 44,
   "id": "41cdfc76",
   "metadata": {},
   "outputs": [
    {
     "data": {
      "text/plain": [
       "dtype('int32')"
      ]
     },
     "execution_count": 44,
     "metadata": {},
     "output_type": "execute_result"
    }
   ],
   "source": [
    "m.size # tamaño total del array\n",
    "m.shape # forma\n",
    "m.dtype # tipo de sus elementos"
   ]
  },
  {
   "cell_type": "markdown",
   "id": "f25d9640",
   "metadata": {},
   "source": [
    "- Exercici 2\n",
    "Crea una funció que et generi un quadrat NxN de nombres aleatoris entre el 0 i el 100.\n"
   ]
  },
  {
   "cell_type": "code",
   "execution_count": 16,
   "id": "5763d67e",
   "metadata": {},
   "outputs": [],
   "source": [
    "import numpy as np"
   ]
  },
  {
   "cell_type": "code",
   "execution_count": 18,
   "id": "d281b7f6",
   "metadata": {},
   "outputs": [
    {
     "name": "stdout",
     "output_type": "stream",
     "text": [
      "[[ 2  1 94 98]\n",
      " [92 47 77 48]\n",
      " [49 67 33 87]\n",
      " [18 90  9 66]]\n"
     ]
    }
   ],
   "source": [
    "def crear_array():    \n",
    "    m = np.random.randint (0,100, size = (4,4))\n",
    "    print(m)\n",
    "    \n",
    "crear_array()"
   ]
  },
  {
   "cell_type": "code",
   "execution_count": 19,
   "id": "730516ae",
   "metadata": {},
   "outputs": [
    {
     "name": "stdout",
     "output_type": "stream",
     "text": [
      "[[10 70 37 24]\n",
      " [55 97 67 89]\n",
      " [73 18  4 69]\n",
      " [ 0 65 64 65]]\n"
     ]
    }
   ],
   "source": [
    "def crear_array():    \n",
    "    m = np.random.randint (0,100, size = (4,4))\n",
    "    print(m)\n",
    "    \n",
    "crear_array()"
   ]
  },
  {
   "cell_type": "code",
   "execution_count": 20,
   "id": "8559ced1",
   "metadata": {},
   "outputs": [
    {
     "name": "stdout",
     "output_type": "stream",
     "text": [
      "[[56 91 40 44]\n",
      " [47 64 92 51]\n",
      " [28 79 30 14]\n",
      " [92 38 26 11]]\n"
     ]
    }
   ],
   "source": [
    "def crear_array():    \n",
    "    m = np.random.randint (0,100, size = (4,4))\n",
    "    print(m)\n",
    "    \n",
    "crear_array()"
   ]
  },
  {
   "cell_type": "markdown",
   "id": "ef580fcd",
   "metadata": {},
   "source": [
    "- Exercici 3\n",
    "Crea una funció que donada una taula de dues dimensions (NxM), et calculi els totals per fila i els totals per columna.\n"
   ]
  },
  {
   "cell_type": "markdown",
   "id": "0f54d4d0",
   "metadata": {},
   "source": [
    "b.sum (axis = 1) # Suma per Fila \n",
    "b.sum (axis = 0) # Suma per Columna  "
   ]
  },
  {
   "cell_type": "code",
   "execution_count": 2,
   "id": "3c3b7b55",
   "metadata": {},
   "outputs": [],
   "source": [
    "import numpy as np"
   ]
  },
  {
   "cell_type": "code",
   "execution_count": 3,
   "id": "68682db7",
   "metadata": {},
   "outputs": [
    {
     "name": "stdout",
     "output_type": "stream",
     "text": [
      "[[98 48  9 40]\n",
      " [63 48 89 11]\n",
      " [ 1 93 93 53]\n",
      " [61 68 72 59]]\n",
      "La suma por fila es:  [195 211 240 260]\n",
      "La suma por columna es:  [223 257 263 163]\n"
     ]
    }
   ],
   "source": [
    "def crear_array_sumas():    \n",
    "    m = np.random.randint (0,100, size = (4,4))\n",
    "    m1 = m.sum (axis = 1) # Suma per Fila\n",
    "    m2 = m.sum (axis = 0) # Suma per Columna    \n",
    "    print(m)\n",
    "    print(\"La suma por fila es: \",m1)\n",
    "    print(\"La suma por columna es: \",m2)\n",
    "    \n",
    "crear_array_sumas()"
   ]
  },
  {
   "cell_type": "markdown",
   "id": "7bd74f7d",
   "metadata": {},
   "source": [
    "- Exercici 4\n",
    "Implementa manualment una funció que calculi el coeficient de correlació. Informa-te'n sobre els seus usos i interpretació.\n"
   ]
  },
  {
   "cell_type": "code",
   "execution_count": 1,
   "id": "d8de6578",
   "metadata": {},
   "outputs": [],
   "source": [
    "import numpy as np\n",
    "import pandas as pd"
   ]
  },
  {
   "cell_type": "markdown",
   "id": "d0afb739",
   "metadata": {},
   "source": [
    "El coheficiente de correlación es un valor obtenido a partir de la relación entre dos variables. El objetivo de obtener tal valor es el buscar la medida en que dicho valor confirma o no la relación entre dichas variables; es decir, cómo el aumento de una de las variables afecta a la otra. Esto puede ser en modo positivo o negativo: si el aumento de una de las variables, aumenta a la segunda variable sería (positivo) o directo, por el contrario si el aumento de la primera variable disminuye a la segunda, se llamaría inverso o negativo."
   ]
  },
  {
   "cell_type": "code",
   "execution_count": 18,
   "id": "44f9eca9",
   "metadata": {},
   "outputs": [
    {
     "name": "stdout",
     "output_type": "stream",
     "text": [
      "[[1.         0.99861019]\n",
      " [0.99861019 1.        ]]\n"
     ]
    }
   ],
   "source": [
    "def coeficient_de_correlacio(): \n",
    "\n",
    "    X = np.array([92, 3, 63])\n",
    "    Y = np.array([20, 2, 15])\n",
    "resultado = np.corrcoef(X,Y)\n",
    "print(resultado)\n",
    "\n",
    "coeficient_de_correlacio(); \n",
    "\n"
   ]
  },
  {
   "cell_type": "code",
   "execution_count": null,
   "id": "5652cbef",
   "metadata": {},
   "outputs": [],
   "source": []
  },
  {
   "cell_type": "code",
   "execution_count": null,
   "id": "54e92ce2",
   "metadata": {},
   "outputs": [],
   "source": []
  }
 ],
 "metadata": {
  "kernelspec": {
   "display_name": "Python 3 (ipykernel)",
   "language": "python",
   "name": "python3"
  },
  "language_info": {
   "codemirror_mode": {
    "name": "ipython",
    "version": 3
   },
   "file_extension": ".py",
   "mimetype": "text/x-python",
   "name": "python",
   "nbconvert_exporter": "python",
   "pygments_lexer": "ipython3",
   "version": "3.9.12"
  }
 },
 "nbformat": 4,
 "nbformat_minor": 5
}
